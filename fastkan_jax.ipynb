{
 "cells": [
  {
   "cell_type": "code",
   "execution_count": 14,
   "metadata": {},
   "outputs": [],
   "source": [
    "from flax import nnx\n",
    "import jax\n",
    "import jax.numpy as jnp\n",
    "import optax\n",
    "import numpy as np\n",
    "import torch\n",
    "from typing import List, Optional\n",
    "import torchvision\n",
    "from torch.utils.data import DataLoader\n",
    "from functools import partial\n",
    "import matplotlib.pyplot as plt\n",
    "from tqdm import tqdm\n",
    "from time import time"
   ]
  },
  {
   "cell_type": "code",
   "execution_count": 15,
   "metadata": {},
   "outputs": [],
   "source": [
    "class Configs():\n",
    "    def __init__(self):\n",
    "        self.batch_size = 64\n",
    "        self.lr = 1e-3\n",
    "        self.epochs = 10\n",
    "        self.print_every = 2\n",
    "        self.seed = 42\n",
    "\n",
    "configs = Configs()"
   ]
  },
  {
   "cell_type": "code",
   "execution_count": 16,
   "metadata": {},
   "outputs": [],
   "source": [
    "class RadialBasisFunction(nnx.Module):\n",
    "    def __init__(\n",
    "            self,\n",
    "            grid_min: float = -2.0,\n",
    "            grid_max: float = 2.0,\n",
    "            num_grids: int = 8,\n",
    "            denominator : Optional[float] = None,\n",
    "    ):\n",
    "        super().__init__()\n",
    "        self.grid_min = grid_min\n",
    "        self.grid_max = grid_max\n",
    "        self.num_grids = num_grids\n",
    "        self.grid = nnx.Variable(jnp.linspace(grid_min, grid_max, num_grids))\n",
    "        self.denominator = denominator if denominator else (grid_max - grid_min) / (num_grids -1)\n",
    "\n",
    "    def __call__(self, x):\n",
    "        return jnp.exp(-(((x[..., None] - self.grid) / self.denominator) ** 2))"
   ]
  },
  {
   "cell_type": "code",
   "execution_count": 17,
   "metadata": {},
   "outputs": [],
   "source": [
    "class FastKANLayer(nnx.Module):\n",
    "    def __init__(\n",
    "        self,\n",
    "        input_dim: int,\n",
    "        output_dim: int,\n",
    "        rngs: nnx.Rngs,\n",
    "        grid_min: float = -2.0,\n",
    "        grid_max: float = 2.0,\n",
    "        num_grids: int = 8,\n",
    "        use_base_update: bool = True,\n",
    "        base_update_bias: bool = True,\n",
    "        use_layernorm: bool = True,\n",
    "        base_activation=nnx.silu,\n",
    "        spline_weight_init_scale: float = 0.1,\n",
    "        denominator: Optional[float] = None,\n",
    "    ):\n",
    "        super().__init__()\n",
    "        self.grid_min = grid_min\n",
    "        self.grid_max = grid_max\n",
    "        self.layernorm = None\n",
    "        if use_layernorm:\n",
    "            assert (\n",
    "                input_dim > 1\n",
    "            ), \"Do not use layernorms on 1D inputs. Set `use_layernorm=False`.\"\n",
    "            self.layernorm = nnx.LayerNorm(input_dim, epsilon=1e-5, rngs=rngs)\n",
    "        self.rbf = RadialBasisFunction(grid_min, grid_max, num_grids, denominator)\n",
    "        coef_key = rngs.coef()\n",
    "        self.coef = nnx.Param(\n",
    "            jax.random.truncated_normal(\n",
    "                coef_key,\n",
    "                lower=-2.0,\n",
    "                upper=-2.0,\n",
    "                shape=(output_dim, input_dim, num_grids),\n",
    "            )\n",
    "            * jnp.array(spline_weight_init_scale)\n",
    "        )\n",
    "        self.use_base_update = use_base_update\n",
    "        if self.use_base_update:\n",
    "            self.base_linear = nnx.Linear(\n",
    "                input_dim,\n",
    "                output_dim,\n",
    "                use_bias=base_update_bias,\n",
    "                rngs=rngs,\n",
    "            )\n",
    "            self.base_activation = base_activation\n",
    "\n",
    "\n",
    "    def __call__(self, x: jax.Array, use_layernorm: bool = True) -> jax.Array:\n",
    "        \"\"\"\n",
    "        x: B, input_dim, num_grids\n",
    "        \"\"\"\n",
    "        if self.layernorm is not None and use_layernorm:\n",
    "            spline_basis = self.rbf(self.layernorm(x))\n",
    "        else:\n",
    "            spline_basis = self.rbf(x)\n",
    "        out = jnp.einsum(\"bik, oik -> bo\", spline_basis, self.coef.value)\n",
    "\n",
    "        if self.use_base_update:\n",
    "            res = self.base_linear(self.base_activation(x))\n",
    "            out = res + out\n",
    "\n",
    "        return out"
   ]
  },
  {
   "cell_type": "code",
   "execution_count": 18,
   "metadata": {},
   "outputs": [],
   "source": [
    "class FastKAN(nnx.Module):\n",
    "    def __init__(\n",
    "        self,\n",
    "        layers_hidden: List[int],\n",
    "        rngs: nnx.Rngs,\n",
    "        grid_min: float = -2.0,\n",
    "        grid_max: float = 2.0,\n",
    "        num_grids: int = 8,\n",
    "        use_layernorm: bool = True,\n",
    "        use_base_update: bool = True,\n",
    "        base_update_bias: bool = True,\n",
    "        base_activation=nnx.silu,\n",
    "        spline_weight_init_scale: float = 0.1,\n",
    "    ) -> None:\n",
    "        self.layers = [\n",
    "            FastKANLayer(\n",
    "                input_dim=in_dim,\n",
    "                output_dim=out_dim,\n",
    "                grid_min=grid_min,\n",
    "                grid_max=grid_max,\n",
    "                num_grids=num_grids,\n",
    "                use_layernorm=use_layernorm,\n",
    "                use_base_update=use_base_update,\n",
    "                base_update_bias=base_update_bias,\n",
    "                base_activation=base_activation,\n",
    "                spline_weight_init_scale=spline_weight_init_scale,\n",
    "                rngs=rngs,\n",
    "            )\n",
    "            for in_dim, out_dim in zip(layers_hidden[:-1], layers_hidden[1:])\n",
    "        ]\n",
    "\n",
    "    def __call__(self, x: jax.Array) -> jax.Array:\n",
    "        for layer in self.layers:\n",
    "            x = layer(x)\n",
    "        return x"
   ]
  },
  {
   "cell_type": "code",
   "execution_count": 19,
   "metadata": {},
   "outputs": [
    {
     "name": "stdout",
     "output_type": "stream",
     "text": [
      "Files already downloaded and verified\n",
      "Files already downloaded and verified\n"
     ]
    }
   ],
   "source": [
    "transform = torchvision.transforms.Compose(\n",
    "    [torchvision.transforms.ToTensor(),\n",
    "     torchvision.transforms.Normalize((0.5, 0.5, 0.5), (0.5, 0.5, 0.5))])\n",
    "\n",
    "def collate_fn(batch):\n",
    "    images = torch.stack([item[0] for item in batch]).numpy()\n",
    "    labels = torch.tensor([item[1] for item in batch]).numpy()\n",
    "    images = images.transpose(0, 2, 3, 1)    # nhwc\n",
    "    return {\"image\": images, \"label\": labels}\n",
    "\n",
    "trainset = torchvision.datasets.CIFAR10(root='./data', train=True,\n",
    "                                        download=True, transform=transform)\n",
    "train_loader = DataLoader(\n",
    "    trainset,\n",
    "    batch_size=configs.batch_size,\n",
    "    shuffle=True,\n",
    "    collate_fn=collate_fn,\n",
    "    )  # num_workers 입력 주의: multiprocessing 충돌 발생\n",
    "\n",
    "testset = torchvision.datasets.CIFAR10(root='./data', train=False,\n",
    "                                       download=True, transform=transform)\n",
    "test_loader = DataLoader(\n",
    "    testset,\n",
    "    batch_size=configs.batch_size,\n",
    "    shuffle=False,\n",
    "    collate_fn=collate_fn,\n",
    "    )\n",
    "\n",
    "classes = ('plane', 'car', 'bird', 'cat', 'deer', 'dog', 'frog', 'horse', 'ship', 'truck')"
   ]
  },
  {
   "cell_type": "code",
   "execution_count": 20,
   "metadata": {},
   "outputs": [],
   "source": [
    "class KANCNN(nnx.Module):\n",
    "    def __init__(self, rngs: nnx.Rngs):\n",
    "        self.conv1 = nnx.Conv(3, 32, kernel_size=(5, 5), rngs=rngs)\n",
    "        self.pool = partial(nnx.max_pool, window_shape=(2,2), strides=(2,2))\n",
    "        self.conv2 = nnx.Conv(32, 64, kernel_size=(5, 5), rngs=rngs)\n",
    "        self.fc1 = FastKAN([8 * 8 * 64, 256], rngs=rngs)\n",
    "        self.fc2 = FastKAN([256, 10], rngs=rngs)\n",
    "\n",
    "    def __call__(self, x):\n",
    "        x = self.pool(nnx.selu(self.conv1(x)))\n",
    "        x = self.pool(nnx.selu(self.conv2(x)))\n",
    "        x = x.reshape(x.shape[0], -1)\n",
    "        x = self.fc1(x)\n",
    "        x = self.fc2(x)\n",
    "        return x"
   ]
  },
  {
   "cell_type": "code",
   "execution_count": 21,
   "metadata": {},
   "outputs": [],
   "source": [
    "model = KANCNN(rngs=nnx.Rngs(configs.seed))\n",
    "optimizer = nnx.Optimizer(model, optax.adamw(learning_rate=configs.lr))"
   ]
  },
  {
   "cell_type": "code",
   "execution_count": 22,
   "metadata": {},
   "outputs": [],
   "source": [
    "metrics = nnx.MultiMetric(\n",
    "    accuracy=nnx.metrics.Accuracy(),\n",
    "    loss=nnx.metrics.Average('loss'),\n",
    ")"
   ]
  },
  {
   "cell_type": "code",
   "execution_count": 23,
   "metadata": {},
   "outputs": [],
   "source": [
    "def loss_fn(model: nnx.Module, batch):\n",
    "    logits = model(batch['image'])\n",
    "    loss = optax.softmax_cross_entropy_with_integer_labels(\n",
    "        logits=logits, labels=batch['label']\n",
    "    ).mean()\n",
    "    return loss, logits\n",
    "\n",
    "@nnx.jit\n",
    "def train_step(model: nnx.Module, optimizer: nnx.Optimizer, metrics: nnx.MultiMetric, batch):\n",
    "    model.train()\n",
    "    grad_fn = nnx.value_and_grad(loss_fn, has_aux=True)\n",
    "    (loss, logits), grads = grad_fn(model, batch)\n",
    "    metrics.update(loss=loss, logits=logits, labels=batch['label'])\n",
    "    optimizer.update(grads)\n",
    "\n",
    "@nnx.jit\n",
    "def eval_step(model: nnx.Module, metrics: nnx.MultiMetric, batch):\n",
    "    model.eval()\n",
    "    loss, logits = loss_fn(model, batch)\n",
    "    metrics.update(loss=loss, logits=logits, labels=batch['label'])"
   ]
  },
  {
   "cell_type": "code",
   "execution_count": 24,
   "metadata": {},
   "outputs": [
    {
     "name": "stderr",
     "output_type": "stream",
     "text": [
      " 10%|█         | 1/10 [00:24<03:44, 24.95s/it]"
     ]
    },
    {
     "name": "stdout",
     "output_type": "stream",
     "text": [
      "epoch: 0, train_loss: 1.2834, train_accuracy: 52.9320, test_loss: 1.0595, test_accuracy: 61.7700 \n"
     ]
    },
    {
     "name": "stderr",
     "output_type": "stream",
     "text": [
      " 30%|███       | 3/10 [01:05<02:29, 21.41s/it]"
     ]
    },
    {
     "name": "stdout",
     "output_type": "stream",
     "text": [
      "epoch: 2, train_loss: 0.7525, train_accuracy: 73.1900, test_loss: 0.8460, test_accuracy: 70.5600 \n"
     ]
    },
    {
     "name": "stderr",
     "output_type": "stream",
     "text": [
      " 50%|█████     | 5/10 [01:45<01:43, 20.79s/it]"
     ]
    },
    {
     "name": "stdout",
     "output_type": "stream",
     "text": [
      "epoch: 4, train_loss: 0.3342, train_accuracy: 88.7060, test_loss: 0.8590, test_accuracy: 73.1600 \n"
     ]
    },
    {
     "name": "stderr",
     "output_type": "stream",
     "text": [
      " 70%|███████   | 7/10 [02:25<01:01, 20.51s/it]"
     ]
    },
    {
     "name": "stdout",
     "output_type": "stream",
     "text": [
      "epoch: 6, train_loss: 0.0827, train_accuracy: 97.8620, test_loss: 1.0153, test_accuracy: 72.5700 \n"
     ]
    },
    {
     "name": "stderr",
     "output_type": "stream",
     "text": [
      " 90%|█████████ | 9/10 [03:05<00:20, 20.45s/it]"
     ]
    },
    {
     "name": "stdout",
     "output_type": "stream",
     "text": [
      "epoch: 8, train_loss: 0.0698, train_accuracy: 97.9270, test_loss: 1.2407, test_accuracy: 70.6600 \n"
     ]
    },
    {
     "name": "stderr",
     "output_type": "stream",
     "text": [
      "100%|██████████| 10/10 [03:24<00:00, 20.42s/it]"
     ]
    },
    {
     "name": "stdout",
     "output_type": "stream",
     "text": [
      "elapsed time: 204.21sec\n"
     ]
    },
    {
     "name": "stderr",
     "output_type": "stream",
     "text": [
      "\n"
     ]
    }
   ],
   "source": [
    "metrics_history = {\n",
    "  'train_loss': [],\n",
    "  'train_accuracy': [],\n",
    "  'test_loss': [],\n",
    "  'test_accuracy': [],\n",
    "}\n",
    "start_time = time()\n",
    "\n",
    "for epoch in tqdm(range(configs.epochs)):\n",
    "    for batch in train_loader:\n",
    "\n",
    "       train_step(model, optimizer, metrics, batch)\n",
    "\n",
    "    if epoch % configs.print_every == 0:\n",
    "        # train log\n",
    "        for metric, value in metrics.compute().items():\n",
    "            metrics_history[f'train_{metric}'].append(value)\n",
    "        metrics.reset()\n",
    "\n",
    "        # test\n",
    "        for test_batch in test_loader:\n",
    "            eval_step(model, metrics, test_batch)\n",
    "\n",
    "        # test log\n",
    "        for metric, value in metrics.compute().items():\n",
    "            metrics_history[f'test_{metric}'].append(value)\n",
    "        metrics.reset()\n",
    "\n",
    "        print(\n",
    "            f\"epoch: {epoch}, \"\n",
    "            f\"train_loss: {metrics_history['train_loss'][-1]:.4f}, \"\n",
    "            f\"train_accuracy: {metrics_history['train_accuracy'][-1] * 100:.4f}, \"\n",
    "            f\"test_loss: {metrics_history['test_loss'][-1]:.4f}, \"\n",
    "            f\"test_accuracy: {metrics_history['test_accuracy'][-1] * 100:.4f} \"\n",
    "        )\n",
    "\n",
    "end_time = time()\n",
    "total_time = end_time - start_time\n",
    "print(f'elapsed time: {total_time:.2f}sec')"
   ]
  },
  {
   "cell_type": "code",
   "execution_count": 25,
   "metadata": {},
   "outputs": [
    {
     "data": {
      "image/png": "[encoded data removed]",
      "text/plain": [
       "<Figure size 1200x600 with 2 Axes>"
      ]
     },
     "metadata": {},
     "output_type": "display_data"
    }
   ],
   "source": [
    "plt.figure(figsize=(12, 6))\n",
    "\n",
    "# Training and Test Loss\n",
    "plt.subplot(1, 2, 1)\n",
    "plt.plot(metrics_history[\"train_loss\"], label=\"Train Loss\")\n",
    "plt.plot(metrics_history[\"test_loss\"], label=\"Test Loss\")\n",
    "plt.title(\"Loss\")\n",
    "plt.xlabel(\"Epoch\")\n",
    "plt.ylabel(\"Loss\")\n",
    "plt.legend()\n",
    "\n",
    "plt.subplot(1, 2, 2)\n",
    "plt.plot([x * 100 for x in metrics_history[\"train_accuracy\"]], label=\"Train Accuracy\")\n",
    "plt.plot([x * 100 for x in metrics_history[\"test_accuracy\"]], label=\"Test Accuracy\")\n",
    "plt.title(\"Accuracy\")\n",
    "plt.xlabel(\"Epoch\")\n",
    "plt.ylabel(\"Accuracy\")\n",
    "plt.legend()\n",
    "\n",
    "plt.tight_layout()\n",
    "plt.show()"
   ]
  },
  {
   "cell_type": "code",
   "execution_count": 26,
   "metadata": {},
   "outputs": [
    {
     "name": "stdout",
     "output_type": "stream",
     "text": [
      "Accuracy for class: plane is 79.1 %\n",
      "Accuracy for class: car   is 85.8 %\n",
      "Accuracy for class: bird  is 51.9 %\n",
      "Accuracy for class: cat   is 39.1 %\n",
      "Accuracy for class: deer  is 68.0 %\n",
      "Accuracy for class: dog   is 73.6 %\n",
      "Accuracy for class: frog  is 78.7 %\n",
      "Accuracy for class: horse is 79.0 %\n",
      "Accuracy for class: ship  is 89.8 %\n",
      "Accuracy for class: truck is 69.5 %\n"
     ]
    }
   ],
   "source": [
    "correct_pred = {classname: 0 for classname in classes}\n",
    "total_pred = {classname: 0 for classname in classes}\n",
    "\n",
    "\n",
    "for batch in test_loader:\n",
    "    images = batch['image']\n",
    "    labels = batch['label']\n",
    "    outputs = model(images)\n",
    "    predictions = np.argmax(outputs, 1)\n",
    "\n",
    "    for label, prediction in zip(labels, predictions):\n",
    "        if label == prediction:\n",
    "            correct_pred[classes[label]] += 1\n",
    "        total_pred[classes[label]] += 1\n",
    "\n",
    "\n",
    "for classname, correct_count in correct_pred.items():\n",
    "    accuracy = 100 * float(correct_count) / total_pred[classname]\n",
    "    print(f'Accuracy for class: {classname:5s} is {accuracy:.1f} %')"
   ]
  }
 ],
 "metadata": {
  "kernelspec": {
   "display_name": "Python 3",
   "language": "python",
   "name": "python3"
  },
  "language_info": {
   "codemirror_mode": {
    "name": "ipython",
    "version": 3
   },
   "file_extension": ".py",
   "mimetype": "text/x-python",
   "name": "python",
   "nbconvert_exporter": "python",
   "pygments_lexer": "ipython3",
   "version": "3.10.12"
  }
 },
 "nbformat": 4,
 "nbformat_minor": 2
}
